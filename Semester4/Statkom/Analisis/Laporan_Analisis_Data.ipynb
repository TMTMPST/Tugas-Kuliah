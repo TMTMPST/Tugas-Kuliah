{
 "cells": [
  {
   "cell_type": "code",
   "execution_count": null,
   "id": "1f7b0b9e",
   "metadata": {},
   "outputs": [],
   "source": [
    "import pandas as pd\n",
    "import matplotlib.pyplot as plt\n",
    "import seaborn as sns\n",
    "\n",
    "# Membaca file Excel\n",
    "file_path = \"Data CM1.xlsx\"\n",
    "xls = pd.ExcelFile(file_path)\n",
    "\n",
    "# Membaca sheet \"ID\"\n",
    "df = pd.read_excel(xls, sheet_name=\"ID\")\n",
    "\n",
    "# Menampilkan 5 baris pertama\n",
    "df.head()\n"
   ]
  },
  {
   "cell_type": "code",
   "execution_count": null,
   "id": "8210c9a5",
   "metadata": {},
   "outputs": [],
   "source": [
    "# Diagram Batang\n",
    "plt.figure(figsize=(12, 5))\n",
    "plt.subplot(1, 2, 1)\n",
    "sns.barplot(x=df.index, y=df[\"Lama Belajar\"], color=\"skyblue\")\n",
    "plt.xlabel(\"Index\")\n",
    "plt.ylabel(\"Lama Belajar\")\n",
    "plt.title(\"Diagram Batang Lama Belajar\")\n",
    "\n",
    "plt.subplot(1, 2, 2)\n",
    "sns.barplot(x=df.index, y=df[\"Nilai Ujian\"], color=\"orange\")\n",
    "plt.xlabel(\"Index\")\n",
    "plt.ylabel(\"Nilai Ujian\")\n",
    "plt.title(\"Diagram Batang Nilai Ujian\")\n",
    "\n",
    "plt.tight_layout()\n",
    "plt.show()\n"
   ]
  },
  {
   "cell_type": "code",
   "execution_count": null,
   "id": "39124330",
   "metadata": {},
   "outputs": [],
   "source": [
    "# Menghitung nilai mean, median, modus\n",
    "mean_lama_belajar = df[\"Lama Belajar\"].mean()\n",
    "median_lama_belajar = df[\"Lama Belajar\"].median()\n",
    "mode_lama_belajar = df[\"Lama Belajar\"].mode()[0]\n",
    "\n",
    "mean_nilai_ujian = df[\"Nilai Ujian\"].mean()\n",
    "median_nilai_ujian = df[\"Nilai Ujian\"].median()\n",
    "mode_nilai_ujian = df[\"Nilai Ujian\"].mode()[0]\n",
    "\n",
    "print(\"Lama Belajar - Mean:\", mean_lama_belajar, \"| Median:\", median_lama_belajar, \"| Modus:\", mode_lama_belajar)\n",
    "print(\"Nilai Ujian - Mean:\", mean_nilai_ujian, \"| Median:\", median_nilai_ujian, \"| Modus:\", mode_nilai_ujian)\n"
   ]
  },
  {
   "cell_type": "code",
   "execution_count": null,
   "id": "134eff03",
   "metadata": {},
   "outputs": [],
   "source": [
    "# Menghitung outlier dengan IQR\n",
    "def detect_outliers(data):\n",
    "    Q1 = data.quantile(0.25)\n",
    "    Q3 = data.quantile(0.75)\n",
    "    IQR = Q3 - Q1\n",
    "    lower_bound = Q1 - 1.5 * IQR\n",
    "    upper_bound = Q3 + 1.5 * IQR\n",
    "    outliers_below = (data < lower_bound).sum()\n",
    "    outliers_above = (data > upper_bound).sum()\n",
    "    return outliers_below, outliers_above, outliers_below + outliers_above\n",
    "\n",
    "outliers_lama_belajar = detect_outliers(df[\"Lama Belajar\"])\n",
    "outliers_nilai_ujian = detect_outliers(df[\"Nilai Ujian\"])\n",
    "\n",
    "print(\"Outlier Lama Belajar:\", outliers_lama_belajar)\n",
    "print(\"Outlier Nilai Ujian:\", outliers_nilai_ujian)\n"
   ]
  }
 ],
 "metadata": {
  "language_info": {
   "name": "python"
  }
 },
 "nbformat": 4,
 "nbformat_minor": 5
}
